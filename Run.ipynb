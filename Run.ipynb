{
 "cells": [
  {
   "cell_type": "code",
   "execution_count": 5,
   "metadata": {},
   "outputs": [
    {
     "name": "stdout",
     "output_type": "stream",
     "text": [
      "执行命令: python tools/create_data.py scannet --root-path ./data/scannet --out-dir ./data/scannet --extra-tag scannet\n",
      "Traceback (most recent call last):\n",
      "  File \"/home/xuzhong/git/oneformer3d/tools/create_data.py\", line 5, in <module>\n",
      "    from indoor_converter import create_indoor_info_file\n",
      "  File \"/home/xuzhong/git/oneformer3d/tools/indoor_converter.py\", line 5, in <module>\n",
      "    import mmengine\n",
      "ModuleNotFoundError: No module named 'mmengine'\n"
     ]
    }
   ],
   "source": [
    "%pwd\n",
    "# %cd /home/xuzhong/git/oneformer3d\n",
    "\n",
    "command = 'python tools/create_data.py scannet --root-path ./data/scannet --out-dir ./data/scannet --extra-tag scannet'\n",
    "\n",
    "print(f'执行命令: {command}')\n",
    "!{command}\n"
   ]
  }
 ],
 "metadata": {
  "kernelspec": {
   "display_name": "Python 3",
   "language": "python",
   "name": "python3"
  },
  "language_info": {
   "codemirror_mode": {
    "name": "ipython",
    "version": 3
   },
   "file_extension": ".py",
   "mimetype": "text/x-python",
   "name": "python",
   "nbconvert_exporter": "python",
   "pygments_lexer": "ipython3",
   "version": "3.12.3"
  }
 },
 "nbformat": 4,
 "nbformat_minor": 2
}
