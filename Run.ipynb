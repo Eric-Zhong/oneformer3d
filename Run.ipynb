{
 "cells": [
  {
   "cell_type": "markdown",
   "metadata": {},
   "source": [
    "### Prepare ScanNet Data for Indoor Detection or Segmentation Task\n",
    "\n",
    "We follow the procedure in [votenet](https://github.com/facebookresearch/votenet/).\n",
    "\n",
    "1. Download ScanNet v2 data [HERE](https://github.com/ScanNet/ScanNet). Link or move the 'scans' folder to this level of directory. If you are performing segmentation tasks and want to upload the results to its official [benchmark](http://kaldir.vc.in.tum.de/scannet_benchmark/), please also link or move the 'scans_test' folder to this directory.\n",
    "\n",
    "2. In this directory, extract point clouds and annotations by running `python batch_load_scannet_data.py`. Add the `--scannet200` flag if you want to get markup for the ScanNet200 dataset.\n",
    "\n",
    "3. Enter the project root directory, generate training data by running\n",
    "\n",
    "```bash\n",
    "python tools/create_data.py scannet --root-path ./data/scannet --out-dir ./data/scannet --extra-tag scannet\n",
    "```\n",
    "&nbsp; &nbsp; &nbsp; &nbsp; or for ScanNet200:\n",
    "\n",
    "```bash\n",
    "mkdir data/scannet200\n",
    "python tools/create_data.py scannet200 --root-path ./data/scannet --out-dir ./data/scannet200 --extra-tag scannet200\n",
    "```\n",
    "\n",
    "The overall process for ScanNet could be achieved through the following script\n",
    "\n",
    "```bash\n",
    "python batch_load_scannet_data.py\n",
    "cd ../..\n",
    "python tools/create_data.py scannet --root-path ./data/scannet --out-dir ./data/scannet --extra-tag scannet\n",
    "```\n",
    "\n",
    "Or for ScanNet200:\n",
    "\n",
    "```bash\n",
    "python batch_load_scannet_data.py --scannet200\n",
    "cd ../..\n",
    "mkdir data/scannet200\n",
    "python tools/create_data.py scannet200 --root-path ./data/scannet --out-dir ./data/scannet200 --extra-tag scannet200\n",
    "```\n",
    "\n",
    "The directory structure after pre-processing should be as below\n",
    "\n",
    "```\n",
    "scannet\n",
    "├── meta_data\n",
    "├── batch_load_scannet_data.py\n",
    "├── load_scannet_data.py\n",
    "├── scannet_utils.py\n",
    "├── README.md\n",
    "├── scans\n",
    "├── scans_test\n",
    "├── scannet_instance_data\n",
    "├── points\n",
    "│   ├── xxxxx.bin\n",
    "├── instance_mask\n",
    "│   ├── xxxxx.bin\n",
    "├── semantic_mask\n",
    "│   ├── xxxxx.bin\n",
    "├── super_points\n",
    "│   ├── xxxxx.bin\n",
    "├── seg_info\n",
    "│   ├── train_label_weight.npy\n",
    "│   ├── train_resampled_scene_idxs.npy\n",
    "│   ├── val_label_weight.npy\n",
    "│   ├── val_resampled_scene_idxs.npy\n",
    "├── scannet_oneformer3d_infos_train.pkl\n",
    "├── scannet_oneformer3d_infos_val.pkl\n",
    "├── scannet_oneformer3d_infos_test.pkl\n",
    "\n",
    "```\n",
    "\n",
    "y"
   ]
  },
  {
   "cell_type": "code",
   "execution_count": 1,
   "metadata": {},
   "outputs": [
    {
     "name": "stdout",
     "output_type": "stream",
     "text": [
      "执行命令: python tools/create_data.py scannet --root-path ./data/scannet --out-dir ./data/scannet --extra-tag scannet\n"
     ]
    }
   ],
   "source": [
    "%pwd\n",
    "# %cd /home/xuzhong/git/oneformer3d\n",
    "\n",
    "command = 'python tools/create_data.py scannet --root-path ./data/scannet --out-dir ./data/scannet --extra-tag scannet'\n",
    "\n",
    "print(f'执行命令: {command}')\n",
    "# !{command}\n"
   ]
  }
 ],
 "metadata": {
  "kernelspec": {
   "display_name": "Python 3",
   "language": "python",
   "name": "python3"
  },
  "language_info": {
   "codemirror_mode": {
    "name": "ipython",
    "version": 3
   },
   "file_extension": ".py",
   "mimetype": "text/x-python",
   "name": "python",
   "nbconvert_exporter": "python",
   "pygments_lexer": "ipython3",
   "version": "3.11.5"
  }
 },
 "nbformat": 4,
 "nbformat_minor": 2
}
