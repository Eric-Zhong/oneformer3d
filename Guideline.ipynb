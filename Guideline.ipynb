{
 "cells": [
  {
   "cell_type": "markdown",
   "metadata": {},
   "source": [
    "# 环境准备"
   ]
  },
  {
   "cell_type": "markdown",
   "metadata": {},
   "source": [
    "## 监控命令\n",
    "\n",
    "```\n",
    "watch -n 1 \"ps -Leo pcpu,pid,tid,cmd | sort -nrk 1 | head -n 30\"\n",
    "```"
   ]
  },
  {
   "cell_type": "markdown",
   "metadata": {},
   "source": [
    "## MiniConda\n",
    "\n",
    "Guideline: https://docs.anaconda.com/miniconda/\n",
    "\n",
    "```\n",
    "mkdir -p ~/miniconda3\n",
    "wget https://repo.anaconda.com/miniconda/Miniconda3-latest-Linux-x86_64.sh -O ~/miniconda3/miniconda.sh\n",
    "bash ~/miniconda3/miniconda.sh -b -u -p ~/miniconda3\n",
    "rm ~/miniconda3/miniconda.sh\n",
    "\n",
    "source ~/miniconda3/bin/activate\n",
    "\n",
    "conda init --all\n",
    "```"
   ]
  },
  {
   "cell_type": "markdown",
   "metadata": {},
   "source": [
    "## VSCode & Jupyter\n",
    "\n",
    "```\n",
    "pip install ipykernel -U --user --force-reinstall\n",
    "```\n"
   ]
  },
  {
   "cell_type": "code",
   "execution_count": null,
   "metadata": {},
   "outputs": [
    {
     "name": "stdout",
     "output_type": "stream",
     "text": [
      "hi\n"
     ]
    }
   ],
   "source": [
    "print('Hello Python')\n"
   ]
  },
  {
   "cell_type": "markdown",
   "metadata": {},
   "source": [
    "## Check Version\n",
    "\n",
    "```\n",
    "# 查询镜像中的cuda版本\n",
    "ldconfig -p | grep cuda\n",
    "\n",
    "# 查询镜像中的cudnn版本\n",
    "ldconfig -p | grep cudnn\n",
    "\n",
    "conda list | grep cudatoolkit\n",
    "\n",
    "conda list | grep cudnn\n",
    "\n",
    "```\n",
    "\n",
    "KB: 用 conda 安装\n",
    "\n",
    "```\n",
    "conda search cudatoolkit\n",
    "\n",
    "conda install cudatoolkit==xx.xx\n",
    "conda install cudnn==xx.xx\n",
    "\n",
    "```\n",
    "\n",
    "KB: 下载安装\n",
    "\n",
    "https://developer.nvidia.com/cuda-toolkit-archive\n",
    "\n",
    "https://developer.nvidia.com/cudnn\n",
    "\n",
    "安装方法：\n",
    "\n",
    "先解压， 后将动态链接库和头文件放入相应目录\n",
    "\n",
    "```\n",
    "mv cuda/include/* /usr/local/cuda/include/\n",
    "chmod +x cuda/lib64/* && mv cuda/lib64/* /usr/local/cuda/lib64/\n",
    "```\n",
    "\n",
    "安装完成以后，增加环境变量：\n",
    "\n",
    "```\n",
    "echo \"export LD_LIBRARY_PATH=/usr/local/cuda/lib64/:${LD_LIBRARY_PATH} \\n\" >> ~/.bashrc\n",
    "source ~/.bashrc && ldconfig\n",
    "```\n",
    "\n",
    "提示：\n",
    "\n",
    "默认镜像都内置了最原生的CUDA和cuDNN，如果您自己安装了cudatoolkits等，那么一般会默认优先使用conda中安装的cudatoolkits，"
   ]
  },
  {
   "cell_type": "markdown",
   "metadata": {},
   "source": [
    "\n",
    "\n",
    "## Pytorch & Cuda\n",
    "\n",
    "Ref: https://pytorch.org/get-started/previous-versions/"
   ]
  },
  {
   "cell_type": "markdown",
   "metadata": {},
   "source": [
    "```\n",
    "conda install pytorch==1.13.1 torchvision==0.14.1 torchaudio==0.13.1 pytorch-cuda=11.6 -c pytorch -c nvidia\n",
    "```"
   ]
  },
  {
   "cell_type": "markdown",
   "metadata": {},
   "source": [
    "#### 替换方案\n",
    "\n",
    "用 micromambma\n",
    "\n",
    "```\n",
    "curl -Ls https://micro.mamba.pm/api/micromamba/linux-64/latest | tar -xvj bin/micromamba\n",
    "```\n",
    "\n",
    "root@autodl-container-2e994eb93f-ac29d12f:~# micromamba activate\n",
    "\n",
    "'micromamba' is running as a subprocess and can't modify the parent shell.\n",
    "Thus you must initialize your shell before using activate and deactivate.\n",
    "\n",
    "To initialize the current bash shell, run:\n",
    "    $ eval \"$(micromamba shell hook --shell bash)\"\n",
    "and then activate or deactivate with:\n",
    "    $ micromamba activate\n",
    "To automatically initialize all future (bash) shells, run:\n",
    "    $ micromamba shell init --shell bash --root-prefix=~/.local/share/mamba\n",
    "If your shell was already initialized, reinitialize your shell with:\n",
    "    $ micromamba shell reinit --shell bash\n",
    "Otherwise, this may be an issue. In the meantime you can run commands. See:\n",
    "    $ micromamba run --help\n",
    "\n",
    "Supported shells are {bash, zsh, csh, posix, xonsh, cmd.exe, powershell, fish, nu}.\n",
    "critical libmamba Shell not initialized\n",
    "root@autodl-container-2e994eb93f-ac29d12f:~#\n",
    "\n",
    "```\n",
    "warning  libmamba You have not set the root prefix environment variable.\n",
    "    To permanently modify the root prefix location, either:\n",
    "      - set the 'MAMBA_ROOT_PREFIX' environment variable\n",
    "      - use the '-r,--root-prefix' CLI option\n",
    "      - use 'micromamba shell init ...' to initialize your shell\n",
    "        (then restart or source the contents of the shell init script)\n",
    "    Continuing with default value: \"/root/.local/share/mamba\"\n",
    "```\n",
    "\n",
    "然后替换执行命令：\n",
    "\n",
    "```\n",
    "micromamba install pytorch==1.13.1 torchvision==0.14.1 torchaudio==0.13.1 pytorch-cuda=11.6 -c pytorch -c nvidia\n",
    "```\n",
    "\n"
   ]
  },
  {
   "cell_type": "markdown",
   "metadata": {},
   "source": [
    "### ffmpeg libsm6 ninja-build libglib"
   ]
  },
  {
   "cell_type": "markdown",
   "metadata": {},
   "source": [
    "```\n",
    "apt-key adv --fetch-keys https://developer.download.nvidia.com/compute/cuda/repos/ubuntu1804/x86_64/3bf863cc.pub \\\n",
    "    && apt-key adv --fetch-keys https://developer.download.nvidia.com/compute/machine-learning/repos/ubuntu1804/x86_64/7fa2af80.pub \\\n",
    "    && apt-get update \\\n",
    "    && apt-get install -y ffmpeg libsm6 libxext6 git ninja-build libglib2.0-0 libsm6 libxrender-dev libxext6\n",
    "```"
   ]
  },
  {
   "cell_type": "markdown",
   "metadata": {},
   "source": [
    "### openmmlab"
   ]
  },
  {
   "cell_type": "markdown",
   "metadata": {},
   "source": [
    "```\n",
    "micromamba install --no-deps \\\n",
    "    mmengine==0.7.3 \\\n",
    "    mmdet==3.0.0 \\\n",
    "    mmsegmentation==1.0.0 \\\n",
    "    git+https://github.com/open-mmlab/mmdetection3d.git@22aaa47fdb53ce1870ff92cb7e3f96ae38d17f61\n",
    "```"
   ]
  },
  {
   "cell_type": "markdown",
   "metadata": {},
   "source": [
    "### mmcv 2.0\n",
    "\n",
    "```\n",
    "pip install mmcv==2.0.0 -f https://download.openmmlab.com/mmcv/dist/cu116/torch1.13.0/index.html --no-deps\n",
    "```"
   ]
  },
  {
   "cell_type": "markdown",
   "metadata": {},
   "source": [
    "### MinkowskiEngine\n",
    "\n",
    "MinkowskiEngine 是一个用于稀疏张量的自动微分库。\n",
    "\n",
    "Install MinkowskiEngine\n",
    "\n",
    "Feel free to skip nvidia-cuda-dev if minkowski installation is fine\n",
    "\n",
    "```\n",
    "＃ 只有当后面的命令执行失败后，下面的命令才需要执行。\n",
    "# apt-get update \\\n",
    "# && apt-get -y install libopenblas-dev nvidia-cuda-dev\n",
    "\n",
    "TORCH_CUDA_ARCH_LIST=\"6.1 7.0 8.6\" \\\n",
    "pip install git+https://github.com/NVIDIA/MinkowskiEngine.git@02fc608bea4c0549b0a7b00ca1bf15dee4a0b228 -v --no-deps \\\n",
    "  --install-option=\"--blas=openblas\" \\\n",
    "  --install-option=\"--force_cuda\"\n",
    "```\n",
    "\n",
    "现在 pip 已经不支持 --install-option 参数了。\n",
    "\n",
    "替换为：\n",
    "\n",
    "```\n",
    "BLAS=openblas \\\n",
    "FORCE_CUDA=true \\\n",
    "TORCH_CUDA_ARCH_LIST=\"6.1 7.0 8.6\"\n",
    "\n",
    "pip install git+https://github.com/NVIDIA/MinkowskiEngine.git@02fc608bea4c0549b0a7b00ca1bf15dee4a0b228 -v --no-deps\n",
    "\n",
    "```"
   ]
  },
  {
   "cell_type": "markdown",
   "metadata": {},
   "source": [
    "安装还是失败，换方法。\n",
    "\n",
    "参考： https://blog.csdn.net/m0_60197472/article/details/125293739\n",
    "\n",
    "\n",
    "```\n",
    "pip install ninja\n",
    "\n",
    "git clone https://github.com/NVIDIA/MinkowskiEngine.git\n",
    "\n",
    "echo $CONDA_PREFIX\n",
    "\n",
    "python setup.py install --blas_include_dirs=${CONDA_PREFIX}/include --blas=openblas\n",
    "```"
   ]
  },
  {
   "cell_type": "code",
   "execution_count": null,
   "metadata": {},
   "outputs": [],
   "source": [
    "# Check\n",
    "\n",
    "import MinkowskiEngine as ME\n",
    "print(ME.__version__)\n"
   ]
  },
  {
   "cell_type": "markdown",
   "metadata": {},
   "source": [
    "### torch-scatter\n",
    "\n",
    "```\n",
    "pip install torch-scatter==2.1.2 -f https://data.pyg.org/whl/torch-1.13.0+cu116.html --no-deps\n",
    "```"
   ]
  },
  {
   "cell_type": "markdown",
   "metadata": {},
   "source": [
    "## ScanNet superpoint segmentator"
   ]
  },
  {
   "cell_type": "markdown",
   "metadata": {},
   "source": [
    "```\n",
    "git clone https://github.com/Karbo123/segmentator.git\n",
    "\n",
    "cd segmentator/csrc\n",
    "\n",
    "git reset --hard 76efe46d03dd27afa78df972b17d07f2c6cfb696\n",
    "\n",
    "mkdir build\n",
    "\n",
    "cd build\n",
    "\n",
    "cmake .. \\\n",
    "    -DCMAKE_PREFIX_PATH=`python -c 'import torch;print(torch.utils.cmake_prefix_path)'` \\\n",
    "    -DPYTHON_INCLUDE_DIR=$(python -c \"from distutils.sysconfig import get_python_inc; print(get_python_inc())\") \\\n",
    "    -DPYTHON_LIBRARY=$(python -c \"import distutils.sysconfig as sysconfig; print(sysconfig.get_config_var('LIBDIR'))\") \\\n",
    "    -DCMAKE_INSTALL_PREFIX=`python -c 'from distutils.sysconfig import get_python_lib; print(get_python_lib())'`\n",
    "\n"
   ]
  },
  {
   "cell_type": "markdown",
   "metadata": {},
   "source": [
    "cmake 报错\n",
    "\n",
    "```\n",
    "CMake Error at CMakeLists.txt:2 (cmake_minimum_required):\n",
    "  CMake 3.18 or higher is required.  You are running version 3.16.3\n",
    "```\n"
   ]
  },
  {
   "cell_type": "markdown",
   "metadata": {},
   "source": [
    "\n",
    "解决方法1\n",
    "\n",
    "Ref: https://askubuntu.com/questions/355565/how-do-i-install-the-latest-version-of-cmake-from-the-command-line\n",
    "\n",
    "```\n",
    "apt remove --purge --auto-remove cmake\n",
    "\n",
    "apt update\n",
    "\n",
    "apt install -y software-properties-common lsb-release\n",
    "\n",
    "apt clean all\n",
    "\n",
    "wget -O - https://apt.kitware.com/keys/kitware-archive-latest.asc 2>/dev/null | gpg --dearmor - | sudo tee /etc/apt/trusted.gpg.d/kitware.gpg >/dev/null\n",
    "\n",
    "apt-add-repository \"deb https://apt.kitware.com/ubuntu/ $(lsb_release -cs) main\"\n",
    "\n",
    "apt update\n",
    "\n",
    "apt install kitware-archive-keyring\n",
    "\n",
    "rm /etc/apt/trusted.gpg.d/kitware.gpg\n",
    "\n",
    "apt update\n",
    "\n",
    "apt install cmake\n",
    "\n",
    "cmake --version\n",
    "\n",
    "cmake version 3.30.2\n",
    "\n",
    "```\n",
    "\n",
    "然后回到前面，继续执行 cmake 。"
   ]
  },
  {
   "cell_type": "markdown",
   "metadata": {},
   "source": [
    "\n",
    "\n",
    "make\n",
    "\n",
    "make install\n",
    "\n",
    "cd ../../..\n",
    "```"
   ]
  },
  {
   "cell_type": "markdown",
   "metadata": {},
   "source": [
    "## 最后的一堆组件包\n",
    "\n",
    "```\n",
    "pip install --no-deps \\\n",
    "    spconv-cu116==2.3.6 \\\n",
    "    addict==2.4.0 \\\n",
    "    yapf==0.33.0 \\\n",
    "    termcolor==2.3.0 \\\n",
    "    packaging==23.1 \\\n",
    "    numpy==1.24.1 \\\n",
    "    rich==13.3.5 \\\n",
    "    opencv-python==4.7.0.72 \\\n",
    "    pycocotools==2.0.6 \\\n",
    "    Shapely==1.8.5 \\\n",
    "    scipy==1.10.1 \\\n",
    "    terminaltables==3.1.10 \\\n",
    "    numba==0.57.0 \\\n",
    "    llvmlite==0.40.0 \\\n",
    "    pccm==0.4.7 \\\n",
    "    ccimport==0.4.2 \\\n",
    "    pybind11==2.10.4 \\\n",
    "    ninja==1.11.1 \\\n",
    "    lark==1.1.5 \\\n",
    "    cumm-cu116==0.4.9 \\\n",
    "    pyquaternion==0.9.9 \\\n",
    "    lyft-dataset-sdk==0.0.8 \\\n",
    "    pandas==2.0.1 \\\n",
    "    python-dateutil==2.8.2 \\\n",
    "    matplotlib==3.5.2 \\\n",
    "    pyparsing==3.0.9 \\\n",
    "    cycler==0.11.0 \\\n",
    "    kiwisolver==1.4.4 \\\n",
    "    scikit-learn==1.2.2 \\\n",
    "    joblib==1.2.0 \\\n",
    "    threadpoolctl==3.1.0 \\\n",
    "    cachetools==5.3.0 \\\n",
    "    nuscenes-devkit==1.1.10 \\\n",
    "    trimesh==3.21.6 \\\n",
    "    open3d==0.17.0 \\\n",
    "    plotly==5.18.0 \\\n",
    "    dash==2.14.2 \\\n",
    "    plyfile==1.0.2 \\\n",
    "    flask==3.0.0 \\\n",
    "    werkzeug==3.0.1 \\\n",
    "    click==8.1.7 \\\n",
    "    blinker==1.7.0 \\\n",
    "    itsdangerous==2.1.2 \\\n",
    "    importlib_metadata==2.1.2 \\\n",
    "    zipp==3.17.0\n",
    "```"
   ]
  },
  {
   "cell_type": "markdown",
   "metadata": {},
   "source": [
    "## 数据集"
   ]
  },
  {
   "cell_type": "markdown",
   "metadata": {},
   "source": [
    "## Scannet"
   ]
  },
  {
   "cell_type": "markdown",
   "metadata": {},
   "source": [
    "使用下载好的 download_scannet.py 文件来执行下载任务。"
   ]
  },
  {
   "cell_type": "markdown",
   "metadata": {},
   "source": [
    "\n",
    "```\n",
    "#下载scannet_frames_25k\n",
    "python download_scannetv2.py -o data --preprocessed_frames\n",
    "\n",
    "#下载scannet_frames_test\n",
    "python download_scannetv2.py -o data --test_frames_2d\n",
    "\n",
    "```"
   ]
  },
  {
   "cell_type": "markdown",
   "metadata": {},
   "source": [
    "将下载后的 zip 文件解压、并移动到 data/scannet 下。\n",
    "\n",
    "``` shell\n",
    "unzip scannet_frames_25k.zip -d data/scannet\n",
    "```"
   ]
  },
  {
   "cell_type": "markdown",
   "metadata": {},
   "source": [
    "最后发现，这个文件里只有图片，标记。 对我来说，没用。\n",
    "\n",
    "```\n",
    "python download_scannet2.py -o /home/content/git/oneformer3d/data/scannet --type _vh_clean_2.ply\n",
    "python download_scannet2.py -o /home/content/git/oneformer3d/data/scannet --type _vh_clean_2.labels.ply\n",
    "python download_scannet2.py -o /home/content/git/oneformer3d/data/scannet --type _vh_clean_2.0.010000.segs.json\n",
    "python download_scannet2.py -o /home/content/git/oneformer3d/data/scannet --type .aggregation.json\n",
    "```"
   ]
  },
  {
   "cell_type": "markdown",
   "metadata": {},
   "source": [
    "### 数据预处理\n",
    "\n",
    "#### 安装缺的python组件\n",
    "\n",
    "```shell\n",
    "micromamba install markupsafe\n",
    "micromamba install jinja2\n",
    "```\n",
    "\n"
   ]
  },
  {
   "cell_type": "markdown",
   "metadata": {},
   "source": [
    "#### 预加载数据处理\n",
    "\n",
    "```shell\n",
    "\n",
    "cd data/scannet\n",
    "\n",
    "python batch_load_scannet_data.py\n",
    "\n",
    "python tools/create_data.py scannet --root-path ./data/scannet --out-dir ./data/scannet --extra-tag scannet\n",
    "\n",
    "```\n",
    "\n",
    "\n",
    "```\n",
    "mkdir /home/content/git/oneformer3d/work_dirs/tmp\n",
    "\n",
    "cp sstnet_scannet.pth /home/content/git/oneformer3d/work_dirs/tmp\n",
    "\n",
    "export PYTHONPATH=/home/content/git/oneformer3d\n",
    "\n",
    "\n",
    "\n",
    "\n",
    "```"
   ]
  },
  {
   "cell_type": "markdown",
   "metadata": {},
   "source": [
    "\n",
    "在我的环境中，命令如下\n",
    "\n",
    "```\n",
    "cd /home/content/git/oneformer3d\n",
    "\n",
    "python tools/train.py configs/oneformer3d_1xb4_scannet.py\n",
    "\n",
    "# train (with validation)\n",
    "python tools/train.py configs/oneformer3d_1xb4_scannet.py\n",
    "\n",
    "# test\n",
    "\n",
    "# 先执行 \n",
    "python tools/fix_spconv_checkpoint.py \\\n",
    "    --in-path work_dirs/oneformer3d_1xb4_scannet/epoch_19.pth \\\n",
    "    --out-path work_dirs/oneformer3d_1xb4_scannet/epoch_19.pth\n",
    "\n",
    "export PYTHONPATH=/home/content/git/oneformer3d\n",
    "\n",
    "python tools/test.py configs/oneformer3d_1xb4_scannet.py work_dirs/oneformer3d_1xb4_scannet/epoch_19.pth\n",
    "\n",
    "```"
   ]
  },
  {
   "cell_type": "markdown",
   "metadata": {},
   "source": [
    "# 训练"
   ]
  },
  {
   "cell_type": "markdown",
   "metadata": {},
   "source": [
    "## 下载预训练模型"
   ]
  },
  {
   "cell_type": "markdown",
   "metadata": {},
   "source": [
    "### ScanNet 扫描\n",
    "\n",
    "https://github.com/oneformer3d/oneformer3d/releases/download/v1.0/oneformer3d_1xb4_scannet.pth\n",
    "\n",
    "https://github.com/Eric-Zhong/oneformer3d/blob/main/configs/oneformer3d_1xb4_scannet.py\n"
   ]
  },
  {
   "cell_type": "markdown",
   "metadata": {},
   "source": [
    "### S3DIS\n",
    "\n",
    "https://github.com/oneformer3d/oneformer3d/releases/download/v1.0/oneformer3d_1xb2_s3dis-area-5.pth\n",
    "\n",
    "https://github.com/Eric-Zhong/oneformer3d/blob/main/configs/oneformer3d_1xb2_s3dis-area-5.py\n"
   ]
  },
  {
   "cell_type": "markdown",
   "metadata": {},
   "source": [
    "## 训练\n",
    "\n",
    "```\n",
    "# pre-train\n",
    "python tools/train.py configs/instance-only-oneformer3d_1xb2_scannet-and-structured3d.py\n",
    "\n",
    "python tools/fix_spconv_checkpoint.py \\\n",
    "    --in-path work_dirs/instance-only-oneformer3d_1xb2_scannet-and-structured3d/iter_600000.pth \\\n",
    "    --out-path work_dirs/tmp/instance-only-oneformer3d_1xb2_scannet-and-structured3d.pth\n",
    "```\n"
   ]
  },
  {
   "cell_type": "markdown",
   "metadata": {},
   "source": [
    "## 训练评估\n",
    "\n",
    "```\n",
    "export PYTHONHOME=/home/content/git/oneformer3d\n",
    "\n",
    "train (with validation)\n",
    "python tools/train.py configs/oneformer3d_1xb2_s3dis-area-5.py\n",
    "```"
   ]
  },
  {
   "cell_type": "markdown",
   "metadata": {},
   "source": [
    "## 测试\n",
    "\n",
    "```\n",
    "# test\n",
    "python tools/fix_spconv_checkpoint.py \\\n",
    "    --in-path work_dirs/oneformer3d_1xb2_s3dis-area-5/epoch_512.pth \\\n",
    "    --out-path work_dirs/oneformer3d_1xb2_s3dis-area-5/epoch_512.pth\n",
    "python tools/test.py configs/oneformer3d_1xb2_s3dis-area-5.py \\\n",
    "    work_dirs/oneformer3d_1xb2_s3dis-area-5/epoch_512.pth\n",
    "\n",
    "```"
   ]
  },
  {
   "cell_type": "markdown",
   "metadata": {},
   "source": []
  }
 ],
 "metadata": {
  "kernelspec": {
   "display_name": "Python 3",
   "language": "python",
   "name": "python3"
  },
  "language_info": {
   "codemirror_mode": {
    "name": "ipython",
    "version": 3
   },
   "file_extension": ".py",
   "mimetype": "text/x-python",
   "name": "python",
   "nbconvert_exporter": "python",
   "pygments_lexer": "ipython3",
   "version": "3.12.3"
  }
 },
 "nbformat": 4,
 "nbformat_minor": 2
}
