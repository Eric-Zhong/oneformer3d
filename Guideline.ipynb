{
 "cells": [
  {
   "cell_type": "markdown",
   "metadata": {},
   "source": [
    "# 环境准备"
   ]
  },
  {
   "cell_type": "markdown",
   "metadata": {},
   "source": [
    "## MiniConda\n",
    "\n",
    "Guideline: https://docs.anaconda.com/miniconda/\n",
    "\n",
    "```\n",
    "mkdir -p ~/miniconda3\n",
    "wget https://repo.anaconda.com/miniconda/Miniconda3-latest-Linux-x86_64.sh -O ~/miniconda3/miniconda.sh\n",
    "bash ~/miniconda3/miniconda.sh -b -u -p ~/miniconda3\n",
    "rm ~/miniconda3/miniconda.sh\n",
    "\n",
    "source ~/miniconda3/bin/activate\n",
    "\n",
    "conda init --all\n",
    "```"
   ]
  },
  {
   "cell_type": "markdown",
   "metadata": {},
   "source": [
    "## VSCode & Jupyter\n",
    "\n",
    "```\n",
    "pip install ipykernel -U --user --force-reinstall\n",
    "```\n"
   ]
  },
  {
   "cell_type": "code",
   "execution_count": null,
   "metadata": {},
   "outputs": [
    {
     "name": "stdout",
     "output_type": "stream",
     "text": [
      "hi\n"
     ]
    }
   ],
   "source": [
    "print('Hello Python')"
   ]
  },
  {
   "cell_type": "markdown",
   "metadata": {},
   "source": [
    "## Check Version\n",
    "\n",
    "```\n",
    "# 查询镜像中的cuda版本\n",
    "ldconfig -p | grep cuda\n",
    "\n",
    "# 查询镜像中的cudnn版本\n",
    "ldconfig -p | grep cudnn\n",
    "\n",
    "conda list | grep cudatoolkit\n",
    "\n",
    "conda list | grep cudnn\n",
    "\n",
    "```\n",
    "\n",
    "KB: 用 conda 安装\n",
    "\n",
    "```\n",
    "conda search cudatoolkit\n",
    "\n",
    "conda install cudatoolkit==xx.xx\n",
    "conda install cudnn==xx.xx\n",
    "\n",
    "```\n",
    "\n",
    "KB: 下载安装\n",
    "\n",
    "https://developer.nvidia.com/cuda-toolkit-archive\n",
    "\n",
    "https://developer.nvidia.com/cudnn\n",
    "\n",
    "安装方法：\n",
    "\n",
    "先解压， 后将动态链接库和头文件放入相应目录\n",
    "\n",
    "```\n",
    "mv cuda/include/* /usr/local/cuda/include/\n",
    "chmod +x cuda/lib64/* && mv cuda/lib64/* /usr/local/cuda/lib64/\n",
    "```\n",
    "\n",
    "安装完成以后，增加环境变量：\n",
    "\n",
    "```\n",
    "echo \"export LD_LIBRARY_PATH=/usr/local/cuda/lib64/:${LD_LIBRARY_PATH} \\n\" >> ~/.bashrc\n",
    "source ~/.bashrc && ldconfig\n",
    "```\n",
    "\n",
    "提示：\n",
    "\n",
    "默认镜像都内置了最原生的CUDA和cuDNN，如果您自己安装了cudatoolkits等，那么一般会默认优先使用conda中安装的cudatoolkits，"
   ]
  },
  {
   "cell_type": "markdown",
   "metadata": {},
   "source": [
    "\n",
    "\n",
    "## Pytorch & Cuda\n",
    "\n",
    "Ref: https://pytorch.org/get-started/previous-versions/"
   ]
  },
  {
   "cell_type": "markdown",
   "metadata": {},
   "source": [
    "```\n",
    "conda install pytorch==1.13.1 torchvision==0.14.1 torchaudio==0.13.1 pytorch-cuda=11.6 -c pytorch -c nvidia\n",
    "```"
   ]
  },
  {
   "cell_type": "markdown",
   "metadata": {},
   "source": [
    "#### 替换方案\n",
    "\n",
    "用 micromambma\n",
    "\n",
    "```\n",
    "curl -Ls https://micro.mamba.pm/api/micromamba/linux-64/latest | tar -xvj bin/micromamba\n",
    "```\n",
    "\n",
    "然后替换执行命令：\n",
    "\n",
    "```\n",
    "micromamba install pytorch==1.13.1 torchvision==0.14.1 torchaudio==0.13.1 pytorch-cuda=11.6 -c pytorch -c nvidia\n",
    "```"
   ]
  }
 ],
 "metadata": {
  "kernelspec": {
   "display_name": "Python 3",
   "language": "python",
   "name": "python3"
  },
  "language_info": {
   "codemirror_mode": {
    "name": "ipython",
    "version": 3
   },
   "file_extension": ".py",
   "mimetype": "text/x-python",
   "name": "python",
   "nbconvert_exporter": "python",
   "pygments_lexer": "ipython3",
   "version": "3.12.3"
  }
 },
 "nbformat": 4,
 "nbformat_minor": 2
}
